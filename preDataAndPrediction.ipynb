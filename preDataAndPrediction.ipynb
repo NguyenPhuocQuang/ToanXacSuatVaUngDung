{
 "cells": [
  {
   "cell_type": "markdown",
   "metadata": {},
   "source": [
    "<h2>TOÁN ỨNG DỤNG VÀ XÁC SUẤT</h2>\n",
    "<h3>Project 01</h3>"
   ]
  },
  {
   "cell_type": "markdown",
   "metadata": {},
   "source": [
    "<h3>1.Preproccessing data test</h3>"
   ]
  },
  {
   "cell_type": "markdown",
   "metadata": {},
   "source": [
    "**reading dadaTrain to take  unquie value**"
   ]
  },
  {
   "cell_type": "code",
   "execution_count": 64,
   "metadata": {},
   "outputs": [],
   "source": [
    "import numpy as np\n",
    "import pandas as pd\n",
    "import matplotlib.pylab as plt\n",
    "dataX_train = pd.read_csv(\"X_train.csv\")\n",
    "dataY_train = pd.read_csv(\"Y_train.csv\") \n",
    "data=pd.concat([dataX_train,dataY_train['price']],axis=1)\n",
    "data=data.dropna()"
   ]
  },
  {
   "cell_type": "code",
   "execution_count": 65,
   "metadata": {},
   "outputs": [],
   "source": [
    "dataUniqueManufacturer=dataX_train['manufacturer'].unique()\n",
    "dataUniqueTransmission=dataX_train['transmission'].unique()\n",
    "dataUniqueEngineFuel=dataX_train['engineFuel'].unique()\n",
    "dataUniqueEngineType=dataX_train['engineType'].unique()\n",
    "dataUniqueBodyType=dataX_train['bodyType'].unique()\n",
    "dataUniqueDrivetrain=dataX_train['drivetrain'].unique()\n",
    "dataUniqueFeature_0=dataX_train['feature_0'].unique()\n",
    "dataUniqueColor=dataX_train['color'].unique()"
   ]
  },
  {
   "cell_type": "markdown",
   "metadata": {},
   "source": [
    "**supported function**\n",
    "\n",
    "function checkvalue : check input into colum"
   ]
  },
  {
   "cell_type": "code",
   "execution_count": 66,
   "metadata": {},
   "outputs": [],
   "source": [
    "def checValue(input,colums):\n",
    "    return input in colums"
   ]
  },
  {
   "cell_type": "markdown",
   "metadata": {},
   "source": [
    "function fillingMissingData: to fill out value"
   ]
  },
  {
   "cell_type": "code",
   "execution_count": 67,
   "metadata": {},
   "outputs": [],
   "source": [
    "def fillingMissingData(dataUnique,namFeature,valueFrequency):\n",
    "    \n",
    "    n=dataX_test[namFeature].size\n",
    "    datafeature=dataX_test[namFeature]\n",
    "    for i in range(n):\n",
    "        if not checValue(datafeature.loc[i],dataUnique):\n",
    "              dataX_test.loc[i,namFeature]=valueFrequency"
   ]
  },
  {
   "cell_type": "markdown",
   "metadata": {},
   "source": [
    "**Reading datatest**"
   ]
  },
  {
   "cell_type": "code",
   "execution_count": 68,
   "metadata": {},
   "outputs": [],
   "source": [
    "dataX_test= pd.read_csv(\"X_test.csv\")\n",
    "dataY_test= pd.read_csv(\"Y_test.csv\")"
   ]
  },
  {
   "cell_type": "markdown",
   "metadata": {},
   "source": [
    "**handle missingdata and strange value**"
   ]
  },
  {
   "cell_type": "code",
   "execution_count": 69,
   "metadata": {},
   "outputs": [],
   "source": [
    "fillingMissingData(dataUniqueManufacturer,'manufacturer','Volkswagen')\n",
    "\n",
    "fillingMissingData(dataUniqueTransmission,'transmission','mechanical')\n",
    "\n",
    "fillingMissingData(dataUniqueEngineFuel,'engineFuel','gasoline')\n",
    "\n",
    "fillingMissingData(dataUniqueEngineType,'engineType','gasoline')\n",
    "\n",
    "fillingMissingData(dataUniqueBodyType,'bodyType','sedan')\n",
    "\n",
    "fillingMissingData(dataUniqueDrivetrain,'drivetrain','front')\n",
    "\n",
    "fillingMissingData(dataUniqueColor,'color','black')\n"
   ]
  },
  {
   "cell_type": "code",
   "execution_count": 70,
   "metadata": {},
   "outputs": [],
   "source": [
    "dataX_test[\"feature_0\"].fillna(dataX_train[\"feature_0\"].value_counts().idxmax(), inplace = True)\n",
    "dataX_test[\"feature_1\"].fillna(dataX_train[\"feature_1\"].value_counts().idxmax(), inplace = True)\n",
    "dataX_test[\"feature_2\"].fillna(dataX_train[\"feature_2\"].value_counts().idxmax(), inplace = True)\n",
    "dataX_test[\"feature_3\"].fillna(dataX_train[\"feature_3\"].value_counts().idxmax(), inplace = True)\n",
    "dataX_test[\"feature_4\"].fillna(dataX_train[\"feature_4\"].value_counts().idxmax(), inplace = True)\n",
    "dataX_test[\"feature_5\"].fillna(dataX_train[\"feature_5\"].value_counts().idxmax(), inplace = True)\n",
    "dataX_test[\"feature_6\"].fillna(dataX_train[\"feature_6\"].value_counts().idxmax(), inplace = True)\n",
    "dataX_test[\"feature_7\"].fillna(dataX_train[\"feature_7\"].value_counts().idxmax(), inplace = True)\n",
    "dataX_test[\"feature_8\"].fillna(dataX_train[\"feature_8\"].value_counts().idxmax(), inplace = True)\n",
    "dataX_test[\"feature_9\"].fillna(dataX_train[\"feature_9\"].value_counts().idxmax(), inplace = True)"
   ]
  },
  {
   "cell_type": "markdown",
   "metadata": {},
   "source": [
    "**reading format datatest**"
   ]
  },
  {
   "cell_type": "code",
   "execution_count": 71,
   "metadata": {},
   "outputs": [],
   "source": [
    "\n",
    "formData_test=pd.read_csv(\"formX_test.csv\")"
   ]
  },
  {
   "cell_type": "markdown",
   "metadata": {},
   "source": [
    "**connecting data test with format datatest**"
   ]
  },
  {
   "cell_type": "code",
   "execution_count": 72,
   "metadata": {},
   "outputs": [],
   "source": [
    "arryManufacturer= np.concatenate((formData_test['manufacturer'], dataX_test['manufacturer']))\n",
    "arryTransmission= np.concatenate((formData_test['transmission'], dataX_test['transmission']))\n",
    "arryColor= np.concatenate((formData_test['color'], dataX_test['color']))\n",
    "arryBodyType= np.concatenate((formData_test['bodyType'], dataX_test['bodyType']))\n",
    "arryDrivetrain= np.concatenate((formData_test['drivetrain'], dataX_test['drivetrain']))\n",
    "arryEngineType= np.concatenate((formData_test['engineType'], dataX_test['engineType']))\n",
    "arryEngineFuel= np.concatenate((formData_test['engineFuel'], dataX_test['engineFuel']))\n",
    "arryFeature_0= np.concatenate((formData_test['feature_0'], dataX_test['feature_0']))\n",
    "arryFeature_1= np.concatenate((formData_test['feature_1'], dataX_test['feature_1']))\n",
    "arryFeature_2= np.concatenate((formData_test['feature_2'], dataX_test['feature_2']))\n",
    "arryFeature_3= np.concatenate((formData_test['feature_3'], dataX_test['feature_3']))\n",
    "arryFeature_4= np.concatenate((formData_test['feature_4'], dataX_test['feature_4']))\n",
    "arryFeature_5= np.concatenate((formData_test['feature_5'], dataX_test['feature_5']))\n",
    "arryFeature_6= np.concatenate((formData_test['feature_6'], dataX_test['feature_6']))\n",
    "arryFeature_7= np.concatenate((formData_test['feature_7'], dataX_test['feature_7']))\n",
    "arryFeature_8= np.concatenate((formData_test['feature_8'], dataX_test['feature_8']))\n",
    "arryFeature_9= np.concatenate((formData_test['feature_9'], dataX_test['feature_9']))"
   ]
  },
  {
   "cell_type": "code",
   "execution_count": 73,
   "metadata": {},
   "outputs": [],
   "source": [
    "arryFeature_0=arryFeature_0.astype(int)\n",
    "arryFeature_1=arryFeature_1.astype(int)\n",
    "arryFeature_2=arryFeature_2.astype(int)\n",
    "arryFeature_3=arryFeature_3.astype(int)\n",
    "arryFeature_4=arryFeature_4.astype(int)\n",
    "arryFeature_5=arryFeature_5.astype(int)\n",
    "arryFeature_6=arryFeature_6.astype(int)\n",
    "arryFeature_7=arryFeature_7.astype(int)\n",
    "arryFeature_8=arryFeature_8.astype(int)\n",
    "arryFeature_9=arryFeature_9.astype(int)\n",
    "\n",
    "\n",
    "arryFeature_0Dataframe=pd.DataFrame(arryFeature_0,columns = ['feature_0'])\n",
    "arryFeature_1Dataframe=pd.DataFrame(arryFeature_1,columns = ['feature_1'])\n",
    "arryFeature_2Dataframe=pd.DataFrame(arryFeature_2,columns = ['feature_2'])\n",
    "arryFeature_3Dataframe=pd.DataFrame(arryFeature_3,columns = ['feature_3'])\n",
    "arryFeature_4Dataframe=pd.DataFrame(arryFeature_4,columns = ['feature_4'])\n",
    "arryFeature_5Dataframe=pd.DataFrame(arryFeature_5,columns = ['feature_5'])\n",
    "arryFeature_6Dataframe=pd.DataFrame(arryFeature_6,columns = ['feature_6'])\n",
    "arryFeature_7Dataframe=pd.DataFrame(arryFeature_7,columns = ['feature_7'])\n",
    "arryFeature_8Dataframe=pd.DataFrame(arryFeature_8,columns = ['feature_8'])\n",
    "arryFeature_9Dataframe=pd.DataFrame(arryFeature_9,columns = ['feature_9'])\n",
    "\n",
    "dumyFeature_0_9=pd.concat([arryFeature_0Dataframe,\n",
    "                           arryFeature_1Dataframe,\n",
    "                          arryFeature_2Dataframe,\n",
    "                           arryFeature_3Dataframe,\n",
    "                          arryFeature_4Dataframe,\n",
    "                           arryFeature_5Dataframe,\n",
    "                          arryFeature_6Dataframe,\n",
    "                           arryFeature_7Dataframe,\n",
    "                          arryFeature_8Dataframe,\n",
    "                           arryFeature_9Dataframe],axis=1)\n"
   ]
  },
  {
   "cell_type": "markdown",
   "metadata": {},
   "source": [
    "**getting dummy**"
   ]
  },
  {
   "cell_type": "code",
   "execution_count": 74,
   "metadata": {},
   "outputs": [],
   "source": [
    "DummyarryManufacturer=pd.get_dummies(arryManufacturer)\n",
    "DummyarryTransmission=pd.get_dummies(arryTransmission)\n",
    "\n",
    "DummyarryColor=pd.get_dummies(arryColor)\n",
    "\n",
    "\n",
    "DummyarryBodyType=pd.get_dummies(arryBodyType)\n",
    "\n",
    "DummyarryDrivetrain=pd.get_dummies(arryDrivetrain)\n",
    "\n",
    "\n",
    "DummyarryEngineType=pd.get_dummies(arryEngineType)\n",
    "\n",
    "\n",
    "DummyarryEngineFuel=pd.get_dummies(arryEngineFuel)"
   ]
  },
  {
   "cell_type": "markdown",
   "metadata": {},
   "source": [
    "**handle numberic attribute**"
   ]
  },
  {
   "cell_type": "code",
   "execution_count": 75,
   "metadata": {},
   "outputs": [],
   "source": [
    "dataOdometerAndYear=pd.concat([dataX_test['odometer'],dataX_test['year']],axis=1)"
   ]
  },
  {
   "cell_type": "code",
   "execution_count": 76,
   "metadata": {},
   "outputs": [],
   "source": [
    "from sklearn.impute import KNNImputer\n",
    "imputer = KNNImputer(n_neighbors=1)\n",
    "df_filled = imputer.fit_transform(dataOdometerAndYear)\n",
    "pd.isnull(df_filled).sum()\n",
    "\n",
    "a = pd.DataFrame(df_filled)\n",
    "arryodometer= np.concatenate((formData_test['odometer'],a[0]))\n",
    "\n",
    "arryodometerdataframe=pd.DataFrame(arryodometer,columns = ['odometer'])\n",
    "\n",
    "arryYear= np.concatenate((formData_test['year'],a[1]))\n",
    "\n",
    "arryYeardataframe=pd.DataFrame(arryYear,columns = ['year'])"
   ]
  },
  {
   "cell_type": "markdown",
   "metadata": {},
   "source": [
    "**format datatest**"
   ]
  },
  {
   "cell_type": "code",
   "execution_count": 77,
   "metadata": {},
   "outputs": [],
   "source": [
    "datafinaltest=pd.concat([arryodometerdataframe,arryodometerdataframe**2,arryYeardataframe,arryYeardataframe**2,\n",
    "                         DummyarryManufacturer,DummyarryTransmission,DummyarryColor,\n",
    "                         DummyarryBodyType,DummyarryDrivetrain,dumyFeature_0_9 ],axis=1)"
   ]
  },
  {
   "cell_type": "code",
   "execution_count": 78,
   "metadata": {},
   "outputs": [
    {
     "data": {
      "text/html": [
       "<div>\n",
       "<style scoped>\n",
       "    .dataframe tbody tr th:only-of-type {\n",
       "        vertical-align: middle;\n",
       "    }\n",
       "\n",
       "    .dataframe tbody tr th {\n",
       "        vertical-align: top;\n",
       "    }\n",
       "\n",
       "    .dataframe thead th {\n",
       "        text-align: right;\n",
       "    }\n",
       "</style>\n",
       "<table border=\"1\" class=\"dataframe\">\n",
       "  <thead>\n",
       "    <tr style=\"text-align: right;\">\n",
       "      <th></th>\n",
       "      <th>odometer</th>\n",
       "      <th>odometer</th>\n",
       "      <th>year</th>\n",
       "      <th>year</th>\n",
       "      <th>Acura</th>\n",
       "      <th>Alfa Romeo</th>\n",
       "      <th>Audi</th>\n",
       "      <th>BMW</th>\n",
       "      <th>Buick</th>\n",
       "      <th>Cadillac</th>\n",
       "      <th>...</th>\n",
       "      <th>feature_0</th>\n",
       "      <th>feature_1</th>\n",
       "      <th>feature_2</th>\n",
       "      <th>feature_3</th>\n",
       "      <th>feature_4</th>\n",
       "      <th>feature_5</th>\n",
       "      <th>feature_6</th>\n",
       "      <th>feature_7</th>\n",
       "      <th>feature_8</th>\n",
       "      <th>feature_9</th>\n",
       "    </tr>\n",
       "  </thead>\n",
       "  <tbody>\n",
       "    <tr>\n",
       "      <th>0</th>\n",
       "      <td>48000.0</td>\n",
       "      <td>2.304000e+09</td>\n",
       "      <td>2014.0</td>\n",
       "      <td>4056196.0</td>\n",
       "      <td>0</td>\n",
       "      <td>0</td>\n",
       "      <td>0</td>\n",
       "      <td>0</td>\n",
       "      <td>0</td>\n",
       "      <td>0</td>\n",
       "      <td>...</td>\n",
       "      <td>0</td>\n",
       "      <td>1</td>\n",
       "      <td>0</td>\n",
       "      <td>0</td>\n",
       "      <td>0</td>\n",
       "      <td>1</td>\n",
       "      <td>0</td>\n",
       "      <td>0</td>\n",
       "      <td>1</td>\n",
       "      <td>1</td>\n",
       "    </tr>\n",
       "    <tr>\n",
       "      <th>1</th>\n",
       "      <td>320000.0</td>\n",
       "      <td>1.024000e+11</td>\n",
       "      <td>2000.0</td>\n",
       "      <td>4000000.0</td>\n",
       "      <td>0</td>\n",
       "      <td>0</td>\n",
       "      <td>0</td>\n",
       "      <td>0</td>\n",
       "      <td>0</td>\n",
       "      <td>0</td>\n",
       "      <td>...</td>\n",
       "      <td>0</td>\n",
       "      <td>1</td>\n",
       "      <td>0</td>\n",
       "      <td>0</td>\n",
       "      <td>0</td>\n",
       "      <td>0</td>\n",
       "      <td>0</td>\n",
       "      <td>0</td>\n",
       "      <td>0</td>\n",
       "      <td>0</td>\n",
       "    </tr>\n",
       "    <tr>\n",
       "      <th>2</th>\n",
       "      <td>164000.0</td>\n",
       "      <td>2.689600e+10</td>\n",
       "      <td>2011.0</td>\n",
       "      <td>4044121.0</td>\n",
       "      <td>0</td>\n",
       "      <td>0</td>\n",
       "      <td>0</td>\n",
       "      <td>0</td>\n",
       "      <td>0</td>\n",
       "      <td>0</td>\n",
       "      <td>...</td>\n",
       "      <td>0</td>\n",
       "      <td>1</td>\n",
       "      <td>0</td>\n",
       "      <td>1</td>\n",
       "      <td>0</td>\n",
       "      <td>0</td>\n",
       "      <td>1</td>\n",
       "      <td>1</td>\n",
       "      <td>1</td>\n",
       "      <td>0</td>\n",
       "    </tr>\n",
       "    <tr>\n",
       "      <th>3</th>\n",
       "      <td>385672.0</td>\n",
       "      <td>1.487429e+11</td>\n",
       "      <td>1998.0</td>\n",
       "      <td>3992004.0</td>\n",
       "      <td>0</td>\n",
       "      <td>0</td>\n",
       "      <td>0</td>\n",
       "      <td>0</td>\n",
       "      <td>0</td>\n",
       "      <td>0</td>\n",
       "      <td>...</td>\n",
       "      <td>0</td>\n",
       "      <td>1</td>\n",
       "      <td>1</td>\n",
       "      <td>0</td>\n",
       "      <td>0</td>\n",
       "      <td>0</td>\n",
       "      <td>0</td>\n",
       "      <td>0</td>\n",
       "      <td>1</td>\n",
       "      <td>1</td>\n",
       "    </tr>\n",
       "    <tr>\n",
       "      <th>4</th>\n",
       "      <td>215652.0</td>\n",
       "      <td>4.650579e+10</td>\n",
       "      <td>2005.0</td>\n",
       "      <td>4020025.0</td>\n",
       "      <td>0</td>\n",
       "      <td>0</td>\n",
       "      <td>0</td>\n",
       "      <td>0</td>\n",
       "      <td>0</td>\n",
       "      <td>0</td>\n",
       "      <td>...</td>\n",
       "      <td>0</td>\n",
       "      <td>0</td>\n",
       "      <td>0</td>\n",
       "      <td>0</td>\n",
       "      <td>0</td>\n",
       "      <td>0</td>\n",
       "      <td>0</td>\n",
       "      <td>0</td>\n",
       "      <td>0</td>\n",
       "      <td>1</td>\n",
       "    </tr>\n",
       "    <tr>\n",
       "      <th>...</th>\n",
       "      <td>...</td>\n",
       "      <td>...</td>\n",
       "      <td>...</td>\n",
       "      <td>...</td>\n",
       "      <td>...</td>\n",
       "      <td>...</td>\n",
       "      <td>...</td>\n",
       "      <td>...</td>\n",
       "      <td>...</td>\n",
       "      <td>...</td>\n",
       "      <td>...</td>\n",
       "      <td>...</td>\n",
       "      <td>...</td>\n",
       "      <td>...</td>\n",
       "      <td>...</td>\n",
       "      <td>...</td>\n",
       "      <td>...</td>\n",
       "      <td>...</td>\n",
       "      <td>...</td>\n",
       "      <td>...</td>\n",
       "      <td>...</td>\n",
       "    </tr>\n",
       "    <tr>\n",
       "      <th>30045</th>\n",
       "      <td>252000.0</td>\n",
       "      <td>6.350400e+10</td>\n",
       "      <td>2008.0</td>\n",
       "      <td>4032064.0</td>\n",
       "      <td>1</td>\n",
       "      <td>0</td>\n",
       "      <td>0</td>\n",
       "      <td>0</td>\n",
       "      <td>0</td>\n",
       "      <td>0</td>\n",
       "      <td>...</td>\n",
       "      <td>0</td>\n",
       "      <td>1</td>\n",
       "      <td>1</td>\n",
       "      <td>0</td>\n",
       "      <td>1</td>\n",
       "      <td>1</td>\n",
       "      <td>0</td>\n",
       "      <td>1</td>\n",
       "      <td>1</td>\n",
       "      <td>1</td>\n",
       "    </tr>\n",
       "    <tr>\n",
       "      <th>30046</th>\n",
       "      <td>290000.0</td>\n",
       "      <td>8.410000e+10</td>\n",
       "      <td>1997.0</td>\n",
       "      <td>3988009.0</td>\n",
       "      <td>0</td>\n",
       "      <td>0</td>\n",
       "      <td>0</td>\n",
       "      <td>0</td>\n",
       "      <td>0</td>\n",
       "      <td>0</td>\n",
       "      <td>...</td>\n",
       "      <td>1</td>\n",
       "      <td>0</td>\n",
       "      <td>0</td>\n",
       "      <td>0</td>\n",
       "      <td>0</td>\n",
       "      <td>0</td>\n",
       "      <td>0</td>\n",
       "      <td>0</td>\n",
       "      <td>0</td>\n",
       "      <td>0</td>\n",
       "    </tr>\n",
       "    <tr>\n",
       "      <th>30047</th>\n",
       "      <td>250000.0</td>\n",
       "      <td>6.250000e+10</td>\n",
       "      <td>1993.0</td>\n",
       "      <td>3972049.0</td>\n",
       "      <td>0</td>\n",
       "      <td>0</td>\n",
       "      <td>0</td>\n",
       "      <td>0</td>\n",
       "      <td>0</td>\n",
       "      <td>0</td>\n",
       "      <td>...</td>\n",
       "      <td>0</td>\n",
       "      <td>0</td>\n",
       "      <td>0</td>\n",
       "      <td>0</td>\n",
       "      <td>0</td>\n",
       "      <td>0</td>\n",
       "      <td>0</td>\n",
       "      <td>0</td>\n",
       "      <td>0</td>\n",
       "      <td>1</td>\n",
       "    </tr>\n",
       "    <tr>\n",
       "      <th>30048</th>\n",
       "      <td>267000.0</td>\n",
       "      <td>7.128900e+10</td>\n",
       "      <td>2002.0</td>\n",
       "      <td>4008004.0</td>\n",
       "      <td>0</td>\n",
       "      <td>0</td>\n",
       "      <td>0</td>\n",
       "      <td>0</td>\n",
       "      <td>0</td>\n",
       "      <td>0</td>\n",
       "      <td>...</td>\n",
       "      <td>0</td>\n",
       "      <td>1</td>\n",
       "      <td>0</td>\n",
       "      <td>0</td>\n",
       "      <td>0</td>\n",
       "      <td>0</td>\n",
       "      <td>0</td>\n",
       "      <td>0</td>\n",
       "      <td>0</td>\n",
       "      <td>1</td>\n",
       "    </tr>\n",
       "    <tr>\n",
       "      <th>30049</th>\n",
       "      <td>200000.0</td>\n",
       "      <td>4.000000e+10</td>\n",
       "      <td>1990.0</td>\n",
       "      <td>3960100.0</td>\n",
       "      <td>0</td>\n",
       "      <td>0</td>\n",
       "      <td>0</td>\n",
       "      <td>0</td>\n",
       "      <td>0</td>\n",
       "      <td>0</td>\n",
       "      <td>...</td>\n",
       "      <td>1</td>\n",
       "      <td>0</td>\n",
       "      <td>0</td>\n",
       "      <td>0</td>\n",
       "      <td>0</td>\n",
       "      <td>0</td>\n",
       "      <td>0</td>\n",
       "      <td>0</td>\n",
       "      <td>0</td>\n",
       "      <td>0</td>\n",
       "    </tr>\n",
       "  </tbody>\n",
       "</table>\n",
       "<p>30050 rows × 93 columns</p>\n",
       "</div>"
      ],
      "text/plain": [
       "       odometer      odometer    year       year  Acura  Alfa Romeo  Audi  \\\n",
       "0       48000.0  2.304000e+09  2014.0  4056196.0      0           0     0   \n",
       "1      320000.0  1.024000e+11  2000.0  4000000.0      0           0     0   \n",
       "2      164000.0  2.689600e+10  2011.0  4044121.0      0           0     0   \n",
       "3      385672.0  1.487429e+11  1998.0  3992004.0      0           0     0   \n",
       "4      215652.0  4.650579e+10  2005.0  4020025.0      0           0     0   \n",
       "...         ...           ...     ...        ...    ...         ...   ...   \n",
       "30045  252000.0  6.350400e+10  2008.0  4032064.0      1           0     0   \n",
       "30046  290000.0  8.410000e+10  1997.0  3988009.0      0           0     0   \n",
       "30047  250000.0  6.250000e+10  1993.0  3972049.0      0           0     0   \n",
       "30048  267000.0  7.128900e+10  2002.0  4008004.0      0           0     0   \n",
       "30049  200000.0  4.000000e+10  1990.0  3960100.0      0           0     0   \n",
       "\n",
       "       BMW  Buick  Cadillac  ...  feature_0  feature_1  feature_2  feature_3  \\\n",
       "0        0      0         0  ...          0          1          0          0   \n",
       "1        0      0         0  ...          0          1          0          0   \n",
       "2        0      0         0  ...          0          1          0          1   \n",
       "3        0      0         0  ...          0          1          1          0   \n",
       "4        0      0         0  ...          0          0          0          0   \n",
       "...    ...    ...       ...  ...        ...        ...        ...        ...   \n",
       "30045    0      0         0  ...          0          1          1          0   \n",
       "30046    0      0         0  ...          1          0          0          0   \n",
       "30047    0      0         0  ...          0          0          0          0   \n",
       "30048    0      0         0  ...          0          1          0          0   \n",
       "30049    0      0         0  ...          1          0          0          0   \n",
       "\n",
       "       feature_4  feature_5  feature_6  feature_7  feature_8  feature_9  \n",
       "0              0          1          0          0          1          1  \n",
       "1              0          0          0          0          0          0  \n",
       "2              0          0          1          1          1          0  \n",
       "3              0          0          0          0          1          1  \n",
       "4              0          0          0          0          0          1  \n",
       "...          ...        ...        ...        ...        ...        ...  \n",
       "30045          1          1          0          1          1          1  \n",
       "30046          0          0          0          0          0          0  \n",
       "30047          0          0          0          0          0          1  \n",
       "30048          0          0          0          0          0          1  \n",
       "30049          0          0          0          0          0          0  \n",
       "\n",
       "[30050 rows x 93 columns]"
      ]
     },
     "execution_count": 78,
     "metadata": {},
     "output_type": "execute_result"
    }
   ],
   "source": [
    "datafinaltest"
   ]
  },
  {
   "cell_type": "markdown",
   "metadata": {},
   "source": [
    "**reading the best model  from file.sav**"
   ]
  },
  {
   "cell_type": "code",
   "execution_count": 79,
   "metadata": {},
   "outputs": [],
   "source": [
    "import joblib\n",
    "filename = 'finalized_model.sav'\n",
    "loaded_model = joblib.load(filename)"
   ]
  },
  {
   "cell_type": "markdown",
   "metadata": {},
   "source": [
    "**predection**"
   ]
  },
  {
   "cell_type": "code",
   "execution_count": 80,
   "metadata": {},
   "outputs": [],
   "source": [
    "y_predicted =loaded_model.predict(datafinaltest)"
   ]
  },
  {
   "cell_type": "markdown",
   "metadata": {},
   "source": [
    "**calculate RMSE**"
   ]
  },
  {
   "cell_type": "code",
   "execution_count": 81,
   "metadata": {},
   "outputs": [],
   "source": [
    "import numpy as geek \n",
    "object=[0,1,2,3,4,5,6,7,8,9,10,\n",
    "       11,12,13,14,15,16,17,18,19,20,\n",
    "       21,22,23,24,25,26,27,28,29,30,\n",
    "       31,32,33,34,35,36,37,38,39,40,41,\n",
    "       42,43,44,45,46,47,48,49]\n",
    "\n",
    "result = geek.delete(y_predicted, object)"
   ]
  },
  {
   "cell_type": "code",
   "execution_count": 82,
   "metadata": {},
   "outputs": [
    {
     "name": "stdout",
     "output_type": "stream",
     "text": [
      "2783.0964597905295\n"
     ]
    }
   ],
   "source": [
    "A=result-dataY_test['price']\n",
    "temp=A**2\n",
    "sumOfTemp=temp.sum()\n",
    "n=result.size\n",
    "import math\n",
    "RMSE=math.sqrt(sumOfTemp/n)\n",
    "print(RMSE)"
   ]
  },
  {
   "cell_type": "code",
   "execution_count": null,
   "metadata": {},
   "outputs": [],
   "source": []
  }
 ],
 "metadata": {
  "kernelspec": {
   "display_name": "Python 3",
   "language": "python",
   "name": "python3"
  },
  "language_info": {
   "codemirror_mode": {
    "name": "ipython",
    "version": 3
   },
   "file_extension": ".py",
   "mimetype": "text/x-python",
   "name": "python",
   "nbconvert_exporter": "python",
   "pygments_lexer": "ipython3",
   "version": "3.8.3"
  }
 },
 "nbformat": 4,
 "nbformat_minor": 4
}
